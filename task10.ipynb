{
 "cells": [
  {
   "cell_type": "markdown",
   "id": "56fbf34a-ddaf-4bb6-9ed0-ea1b1862a079",
   "metadata": {},
   "source": [
    "Utworzyć ramkę danych opisującą w jaki sposób dany lek wchodzi w interakcje ze swoimi targetami."
   ]
  },
  {
   "cell_type": "code",
   "execution_count": 12,
   "id": "075ce877-32bc-4d4c-9a3a-40a8bce73a9c",
   "metadata": {},
   "outputs": [],
   "source": [
    "import pandas as pd\n",
    "import lxml\n",
    "import xml.etree.ElementTree as ET\n",
    "import networkx as nx\n",
    "import matplotlib.pyplot as plt\n",
    "from pprint import pprint"
   ]
  },
  {
   "cell_type": "code",
   "execution_count": 13,
   "id": "e9e9cc38-3573-4897-afd4-bb74133ce076",
   "metadata": {},
   "outputs": [],
   "source": [
    "path = 'data/drugbank_partial.xml'\n",
    "ns = {'db': 'http://www.drugbank.ca'}"
   ]
  },
  {
   "cell_type": "code",
   "execution_count": 14,
   "id": "b8d3ca57-4125-47ce-8db7-8266ca3ce191",
   "metadata": {},
   "outputs": [],
   "source": [
    "tree = ET.parse(path)\n",
    "root = tree.getroot()"
   ]
  },
  {
   "cell_type": "code",
   "execution_count": 15,
   "id": "b91757c9-7630-46b3-8860-9b92e784b685",
   "metadata": {},
   "outputs": [],
   "source": [
    "def unwrap(field, node: ET.Element):\n",
    "    return getattr(node.find(f\"db:{field}\", ns), \"text\", None)"
   ]
  },
  {
   "cell_type": "code",
   "execution_count": 16,
   "id": "b7bd6103-a76b-4ffb-ae84-2853b55828b5",
   "metadata": {},
   "outputs": [],
   "source": [
    "def unwrap_attrib(attrib, node: ET.Element):\n",
    "    return node.attrib.get(attrib)"
   ]
  },
  {
   "cell_type": "code",
   "execution_count": 22,
   "id": "57c9b42c-3b26-416f-b808-3e4340936ce7",
   "metadata": {},
   "outputs": [],
   "source": [
    "def target_interactions_df(drug_id):\n",
    "    drug = root.find(f\"db:drug[db:drugbank-id='{drug_id}']\", ns)    \n",
    "    data = []\n",
    "    index = []\n",
    "    for target in drug.findall('db:targets/db:target', ns):\n",
    "        polypeptide = target.find('db:polypeptide', ns)\n",
    "        index.append(unwrap(\"id\", target))\n",
    "        data.append({\n",
    "            \"Target\": unwrap(\"name\", target),\n",
    "            \"Organism\": unwrap(\"organism\", target),\n",
    "            \"Actions\": [a.text for a in target.findall('db:actions/db:action', ns)],\n",
    "            \"Known action\": unwrap(\"known-action\", target),\n",
    "            \"General Function\": unwrap(\"general-function\", polypeptide),\n",
    "            \"Specific Function\": unwrap(\"specific-function\", polypeptide),\n",
    "        })\n",
    "\n",
    "    return pd.DataFrame(data, index=index)"
   ]
  },
  {
   "cell_type": "code",
   "execution_count": 23,
   "id": "cbb86f62-1702-407f-bee7-5a83edf68be8",
   "metadata": {},
   "outputs": [
    {
     "data": {
      "text/html": [
       "<div>\n",
       "<style scoped>\n",
       "    .dataframe tbody tr th:only-of-type {\n",
       "        vertical-align: middle;\n",
       "    }\n",
       "\n",
       "    .dataframe tbody tr th {\n",
       "        vertical-align: top;\n",
       "    }\n",
       "\n",
       "    .dataframe thead th {\n",
       "        text-align: right;\n",
       "    }\n",
       "</style>\n",
       "<table border=\"1\" class=\"dataframe\">\n",
       "  <thead>\n",
       "    <tr style=\"text-align: right;\">\n",
       "      <th></th>\n",
       "      <th>Target</th>\n",
       "      <th>Organism</th>\n",
       "      <th>Actions</th>\n",
       "      <th>Known action</th>\n",
       "      <th>General Function</th>\n",
       "      <th>Specific Function</th>\n",
       "    </tr>\n",
       "  </thead>\n",
       "  <tbody>\n",
       "    <tr>\n",
       "      <th>BE0000767</th>\n",
       "      <td>Epidermal growth factor receptor</td>\n",
       "      <td>Humans</td>\n",
       "      <td>[binder]</td>\n",
       "      <td>yes</td>\n",
       "      <td>Ubiquitin protein ligase binding</td>\n",
       "      <td>Receptor tyrosine kinase binding ligands of th...</td>\n",
       "    </tr>\n",
       "    <tr>\n",
       "      <th>BE0000901</th>\n",
       "      <td>Low affinity immunoglobulin gamma Fc region re...</td>\n",
       "      <td>Humans</td>\n",
       "      <td>[binder]</td>\n",
       "      <td>unknown</td>\n",
       "      <td>None</td>\n",
       "      <td>Receptor for the Fc region of immunoglobulins ...</td>\n",
       "    </tr>\n",
       "    <tr>\n",
       "      <th>BE0002094</th>\n",
       "      <td>Complement C1q subcomponent subunit A</td>\n",
       "      <td>Humans</td>\n",
       "      <td>[binder]</td>\n",
       "      <td>unknown</td>\n",
       "      <td>None</td>\n",
       "      <td>C1q associates with the proenzymes C1r and C1s...</td>\n",
       "    </tr>\n",
       "    <tr>\n",
       "      <th>BE0002095</th>\n",
       "      <td>Complement C1q subcomponent subunit B</td>\n",
       "      <td>Humans</td>\n",
       "      <td>[binder]</td>\n",
       "      <td>unknown</td>\n",
       "      <td>None</td>\n",
       "      <td>C1q associates with the proenzymes C1r and C1s...</td>\n",
       "    </tr>\n",
       "    <tr>\n",
       "      <th>BE0002096</th>\n",
       "      <td>Complement C1q subcomponent subunit C</td>\n",
       "      <td>Humans</td>\n",
       "      <td>[binder]</td>\n",
       "      <td>unknown</td>\n",
       "      <td>None</td>\n",
       "      <td>C1q associates with the proenzymes C1r and C1s...</td>\n",
       "    </tr>\n",
       "    <tr>\n",
       "      <th>BE0002097</th>\n",
       "      <td>Low affinity immunoglobulin gamma Fc region re...</td>\n",
       "      <td>Humans</td>\n",
       "      <td>[binder]</td>\n",
       "      <td>unknown</td>\n",
       "      <td>None</td>\n",
       "      <td>Receptor for the Fc region of IgG. Binds compl...</td>\n",
       "    </tr>\n",
       "    <tr>\n",
       "      <th>BE0000710</th>\n",
       "      <td>High affinity immunoglobulin gamma Fc receptor I</td>\n",
       "      <td>Humans</td>\n",
       "      <td>[binder]</td>\n",
       "      <td>unknown</td>\n",
       "      <td>Receptor signaling protein activity</td>\n",
       "      <td>High affinity receptor for the Fc region of im...</td>\n",
       "    </tr>\n",
       "    <tr>\n",
       "      <th>BE0002098</th>\n",
       "      <td>Low affinity immunoglobulin gamma Fc region re...</td>\n",
       "      <td>Humans</td>\n",
       "      <td>[binder]</td>\n",
       "      <td>unknown</td>\n",
       "      <td>None</td>\n",
       "      <td>Binds to the Fc region of immunoglobulins gamm...</td>\n",
       "    </tr>\n",
       "  </tbody>\n",
       "</table>\n",
       "</div>"
      ],
      "text/plain": [
       "                                                      Target Organism  \\\n",
       "BE0000767                   Epidermal growth factor receptor   Humans   \n",
       "BE0000901  Low affinity immunoglobulin gamma Fc region re...   Humans   \n",
       "BE0002094              Complement C1q subcomponent subunit A   Humans   \n",
       "BE0002095              Complement C1q subcomponent subunit B   Humans   \n",
       "BE0002096              Complement C1q subcomponent subunit C   Humans   \n",
       "BE0002097  Low affinity immunoglobulin gamma Fc region re...   Humans   \n",
       "BE0000710   High affinity immunoglobulin gamma Fc receptor I   Humans   \n",
       "BE0002098  Low affinity immunoglobulin gamma Fc region re...   Humans   \n",
       "\n",
       "            Actions Known action                     General Function  \\\n",
       "BE0000767  [binder]          yes     Ubiquitin protein ligase binding   \n",
       "BE0000901  [binder]      unknown                                 None   \n",
       "BE0002094  [binder]      unknown                                 None   \n",
       "BE0002095  [binder]      unknown                                 None   \n",
       "BE0002096  [binder]      unknown                                 None   \n",
       "BE0002097  [binder]      unknown                                 None   \n",
       "BE0000710  [binder]      unknown  Receptor signaling protein activity   \n",
       "BE0002098  [binder]      unknown                                 None   \n",
       "\n",
       "                                           Specific Function  \n",
       "BE0000767  Receptor tyrosine kinase binding ligands of th...  \n",
       "BE0000901  Receptor for the Fc region of immunoglobulins ...  \n",
       "BE0002094  C1q associates with the proenzymes C1r and C1s...  \n",
       "BE0002095  C1q associates with the proenzymes C1r and C1s...  \n",
       "BE0002096  C1q associates with the proenzymes C1r and C1s...  \n",
       "BE0002097  Receptor for the Fc region of IgG. Binds compl...  \n",
       "BE0000710  High affinity receptor for the Fc region of im...  \n",
       "BE0002098  Binds to the Fc region of immunoglobulins gamm...  "
      ]
     },
     "execution_count": 23,
     "metadata": {},
     "output_type": "execute_result"
    }
   ],
   "source": [
    "target_interactions_df(\"DB00002\")"
   ]
  },
  {
   "cell_type": "code",
   "execution_count": null,
   "id": "7cc2a801-473c-4072-ac45-9f21e0335761",
   "metadata": {},
   "outputs": [],
   "source": []
  }
 ],
 "metadata": {
  "kernelspec": {
   "display_name": "Python 3 (ipykernel)",
   "language": "python",
   "name": "python3"
  },
  "language_info": {
   "codemirror_mode": {
    "name": "ipython",
    "version": 3
   },
   "file_extension": ".py",
   "mimetype": "text/x-python",
   "name": "python",
   "nbconvert_exporter": "python",
   "pygments_lexer": "ipython3",
   "version": "3.11.10"
  }
 },
 "nbformat": 4,
 "nbformat_minor": 5
}
