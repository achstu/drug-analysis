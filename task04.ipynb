{
 "cells": [
  {
   "cell_type": "markdown",
   "id": "56fbf34a-ddaf-4bb6-9ed0-ea1b1862a079",
   "metadata": {},
   "source": [
    "Utworzyć ramkę danych zawierającą informacje o wszystkich szlakach (sygnałowych, metabolicznych) z jakimi jakikolwiek lek wchodzi w interakcje. Podać całkowitą liczbę tych szlaków."
   ]
  },
  {
   "cell_type": "code",
   "execution_count": 7,
   "id": "075ce877-32bc-4d4c-9a3a-40a8bce73a9c",
   "metadata": {},
   "outputs": [],
   "source": [
    "import pandas as pd\n",
    "import lxml\n",
    "import xml.etree.ElementTree as ET"
   ]
  },
  {
   "cell_type": "code",
   "execution_count": 8,
   "id": "e9e9cc38-3573-4897-afd4-bb74133ce076",
   "metadata": {},
   "outputs": [],
   "source": [
    "path = 'data/drugbank_partial.xml'\n",
    "ns = {'db': 'http://www.drugbank.ca'}"
   ]
  },
  {
   "cell_type": "code",
   "execution_count": 9,
   "id": "b8d3ca57-4125-47ce-8db7-8266ca3ce191",
   "metadata": {},
   "outputs": [],
   "source": [
    "tree = ET.parse(path)\n",
    "root = tree.getroot()"
   ]
  },
  {
   "cell_type": "code",
   "execution_count": 10,
   "id": "f0a6a2f8-57a8-41d3-bb9e-ca120f3e97f6",
   "metadata": {},
   "outputs": [],
   "source": [
    "def all_pathways_df():\n",
    "    data = []\n",
    "    for drug in root.findall('db:drug', ns):\n",
    "        for pathway in drug.findall('db:pathways/db:pathway', ns):\n",
    "            def unwrap(field, node: ET.Element=pathway):\n",
    "                return getattr(node.find(f\"db:{field}\", ns), \"text\", None)\n",
    "    \n",
    "            data.append({\n",
    "                \"Drug Name\": unwrap(\"name\", drug),\n",
    "                \"Pathway Name\": unwrap(\"name\"),\n",
    "                \"SMPDB ID\": unwrap(\"smpdb-id\"),\n",
    "                \"Category\": unwrap(\"category\"),\n",
    "            })\n",
    "\n",
    "    return pd.DataFrame(data)"
   ]
  },
  {
   "cell_type": "code",
   "execution_count": 12,
   "id": "1ba18eb2-9e94-4474-9584-2593bb65b9a8",
   "metadata": {},
   "outputs": [
    {
     "name": "stdout",
     "output_type": "stream",
     "text": [
      "Total pathways:  12\n"
     ]
    },
    {
     "data": {
      "text/html": [
       "<div>\n",
       "<style scoped>\n",
       "    .dataframe tbody tr th:only-of-type {\n",
       "        vertical-align: middle;\n",
       "    }\n",
       "\n",
       "    .dataframe tbody tr th {\n",
       "        vertical-align: top;\n",
       "    }\n",
       "\n",
       "    .dataframe thead th {\n",
       "        text-align: right;\n",
       "    }\n",
       "</style>\n",
       "<table border=\"1\" class=\"dataframe\">\n",
       "  <thead>\n",
       "    <tr style=\"text-align: right;\">\n",
       "      <th></th>\n",
       "      <th>Drug Name</th>\n",
       "      <th>Pathway Name</th>\n",
       "      <th>SMPDB ID</th>\n",
       "      <th>Category</th>\n",
       "    </tr>\n",
       "  </thead>\n",
       "  <tbody>\n",
       "    <tr>\n",
       "      <th>0</th>\n",
       "      <td>Lepirudin</td>\n",
       "      <td>Lepirudin Action Pathway</td>\n",
       "      <td>SMP0000278</td>\n",
       "      <td>drug_action</td>\n",
       "    </tr>\n",
       "    <tr>\n",
       "      <th>1</th>\n",
       "      <td>Cetuximab</td>\n",
       "      <td>Cetuximab Action Pathway</td>\n",
       "      <td>SMP0000474</td>\n",
       "      <td>drug_action</td>\n",
       "    </tr>\n",
       "    <tr>\n",
       "      <th>2</th>\n",
       "      <td>Bivalirudin</td>\n",
       "      <td>Bivalirudin Action Pathway</td>\n",
       "      <td>SMP0000277</td>\n",
       "      <td>drug_action</td>\n",
       "    </tr>\n",
       "    <tr>\n",
       "      <th>3</th>\n",
       "      <td>Alteplase</td>\n",
       "      <td>Alteplase Action Pathway</td>\n",
       "      <td>SMP0000280</td>\n",
       "      <td>drug_action</td>\n",
       "    </tr>\n",
       "    <tr>\n",
       "      <th>4</th>\n",
       "      <td>Urokinase</td>\n",
       "      <td>Urokinase Action Pathway</td>\n",
       "      <td>SMP0000284</td>\n",
       "      <td>drug_action</td>\n",
       "    </tr>\n",
       "    <tr>\n",
       "      <th>5</th>\n",
       "      <td>Reteplase</td>\n",
       "      <td>Reteplase Action Pathway</td>\n",
       "      <td>SMP0000285</td>\n",
       "      <td>drug_action</td>\n",
       "    </tr>\n",
       "    <tr>\n",
       "      <th>6</th>\n",
       "      <td>Anistreplase</td>\n",
       "      <td>Anistreplase Action Pathway</td>\n",
       "      <td>SMP0000281</td>\n",
       "      <td>drug_action</td>\n",
       "    </tr>\n",
       "    <tr>\n",
       "      <th>7</th>\n",
       "      <td>Tenecteplase</td>\n",
       "      <td>Tenecteplase Action Pathway</td>\n",
       "      <td>SMP0000283</td>\n",
       "      <td>drug_action</td>\n",
       "    </tr>\n",
       "    <tr>\n",
       "      <th>8</th>\n",
       "      <td>Abciximab</td>\n",
       "      <td>Abciximab Action Pathway</td>\n",
       "      <td>SMP0000265</td>\n",
       "      <td>drug_action</td>\n",
       "    </tr>\n",
       "    <tr>\n",
       "      <th>9</th>\n",
       "      <td>Eptifibatide</td>\n",
       "      <td>Eptifibatide Action Pathway</td>\n",
       "      <td>SMP0000266</td>\n",
       "      <td>drug_action</td>\n",
       "    </tr>\n",
       "    <tr>\n",
       "      <th>10</th>\n",
       "      <td>Trastuzumab</td>\n",
       "      <td>Trastuzumab Action Pathway</td>\n",
       "      <td>SMP0000476</td>\n",
       "      <td>drug_action</td>\n",
       "    </tr>\n",
       "    <tr>\n",
       "      <th>11</th>\n",
       "      <td>Streptokinase</td>\n",
       "      <td>Streptokinase Action Pathway</td>\n",
       "      <td>SMP0000282</td>\n",
       "      <td>drug_action</td>\n",
       "    </tr>\n",
       "  </tbody>\n",
       "</table>\n",
       "</div>"
      ],
      "text/plain": [
       "        Drug Name                  Pathway Name    SMPDB ID     Category\n",
       "0       Lepirudin      Lepirudin Action Pathway  SMP0000278  drug_action\n",
       "1       Cetuximab      Cetuximab Action Pathway  SMP0000474  drug_action\n",
       "2     Bivalirudin    Bivalirudin Action Pathway  SMP0000277  drug_action\n",
       "3       Alteplase      Alteplase Action Pathway  SMP0000280  drug_action\n",
       "4       Urokinase      Urokinase Action Pathway  SMP0000284  drug_action\n",
       "5       Reteplase      Reteplase Action Pathway  SMP0000285  drug_action\n",
       "6    Anistreplase   Anistreplase Action Pathway  SMP0000281  drug_action\n",
       "7    Tenecteplase   Tenecteplase Action Pathway  SMP0000283  drug_action\n",
       "8       Abciximab      Abciximab Action Pathway  SMP0000265  drug_action\n",
       "9    Eptifibatide   Eptifibatide Action Pathway  SMP0000266  drug_action\n",
       "10    Trastuzumab    Trastuzumab Action Pathway  SMP0000476  drug_action\n",
       "11  Streptokinase  Streptokinase Action Pathway  SMP0000282  drug_action"
      ]
     },
     "execution_count": 12,
     "metadata": {},
     "output_type": "execute_result"
    }
   ],
   "source": [
    "df = all_pathways_df()\n",
    "total_pathways = df.shape[0]\n",
    "# print(\"Total pathways: \", total_pathways)\n",
    "df"
   ]
  }
 ],
 "metadata": {
  "kernelspec": {
   "display_name": "Python 3 (ipykernel)",
   "language": "python",
   "name": "python3"
  },
  "language_info": {
   "codemirror_mode": {
    "name": "ipython",
    "version": 3
   },
   "file_extension": ".py",
   "mimetype": "text/x-python",
   "name": "python",
   "nbconvert_exporter": "python",
   "pygments_lexer": "ipython3",
   "version": "3.11.10"
  }
 },
 "nbformat": 4,
 "nbformat_minor": 5
}
